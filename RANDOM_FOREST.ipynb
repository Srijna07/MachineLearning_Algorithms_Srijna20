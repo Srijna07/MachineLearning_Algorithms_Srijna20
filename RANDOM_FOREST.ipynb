{
  "nbformat": 4,
  "nbformat_minor": 0,
  "metadata": {
    "colab": {
      "provenance": [],
      "authorship_tag": "ABX9TyMdVeoNndPvAtcOxVEsW7AF",
      "include_colab_link": true
    },
    "kernelspec": {
      "name": "python3",
      "display_name": "Python 3"
    },
    "language_info": {
      "name": "python"
    }
  },
  "cells": [
    {
      "cell_type": "markdown",
      "metadata": {
        "id": "view-in-github",
        "colab_type": "text"
      },
      "source": [
        "<a href=\"https://colab.research.google.com/github/Srijna07/MachineLearning_Algorithms_Srijna20/blob/main/RANDOM_FOREST.ipynb\" target=\"_parent\"><img src=\"https://colab.research.google.com/assets/colab-badge.svg\" alt=\"Open In Colab\"/></a>"
      ]
    },
    {
      "cell_type": "code",
      "execution_count": null,
      "metadata": {
        "colab": {
          "base_uri": "https://localhost:8080/"
        },
        "id": "FnstxwUmBZQK",
        "outputId": "0fb8db85-13a0-43a7-e928-ff8315dab1e4"
      },
      "outputs": [
        {
          "output_type": "stream",
          "name": "stdout",
          "text": [
            "Accuracy: 0.9629629629629629\n"
          ]
        }
      ],
      "source": [
        "# Random Forest\n",
        "from sklearn.datasets import load_wine\n",
        "from sklearn.ensemble import RandomForestClassifier\n",
        "from sklearn.model_selection import train_test_split\n",
        "from sklearn.metrics import accuracy_score\n",
        "\n",
        "# Load dataset\n",
        "wine=load_wine()\n",
        "x,y=wine.data,wine.target\n",
        "\n",
        "# Split\n",
        "x_train,x_test,y_train,y_test=train_test_split(x,y,test_size=0.3)\n",
        "\n",
        "# Model training\n",
        "ranfor = RandomForestClassifier()\n",
        "ranfor.fit(x_train, y_train)\n",
        "\n",
        "# Prediction\n",
        "yp= ranfor.predict(x_test)\n",
        "print(\"Accuracy:\", accuracy_score(y_test, yp))"
      ]
    },
    {
      "cell_type": "code",
      "source": [],
      "metadata": {
        "id": "o8II2jPICMlF"
      },
      "execution_count": null,
      "outputs": []
    }
  ]
}