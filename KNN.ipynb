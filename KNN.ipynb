{
  "nbformat": 4,
  "nbformat_minor": 0,
  "metadata": {
    "colab": {
      "provenance": [],
      "authorship_tag": "ABX9TyP1l08dGl7sd4y9p6sZG8TD",
      "include_colab_link": true
    },
    "kernelspec": {
      "name": "python3",
      "display_name": "Python 3"
    },
    "language_info": {
      "name": "python"
    }
  },
  "cells": [
    {
      "cell_type": "markdown",
      "metadata": {
        "id": "view-in-github",
        "colab_type": "text"
      },
      "source": [
        "<a href=\"https://colab.research.google.com/github/Srijna07/MachineLearning_Algorithms_Srijna20/blob/main/KNN.ipynb\" target=\"_parent\"><img src=\"https://colab.research.google.com/assets/colab-badge.svg\" alt=\"Open In Colab\"/></a>"
      ]
    },
    {
      "cell_type": "code",
      "execution_count": null,
      "metadata": {
        "colab": {
          "base_uri": "https://localhost:8080/"
        },
        "id": "aiI-mB44-Y9p",
        "outputId": "cd201d07-20c0-44e3-e898-80920036fcaf"
      },
      "outputs": [
        {
          "output_type": "stream",
          "name": "stdout",
          "text": [
            "              precision    recall  f1-score   support\n",
            "\n",
            "           0       1.00      0.98      0.99        57\n",
            "           1       0.98      1.00      0.99        43\n",
            "           2       1.00      1.00      1.00        47\n",
            "           3       0.98      0.98      0.98        45\n",
            "           4       0.98      1.00      0.99        63\n",
            "           5       1.00      1.00      1.00        57\n",
            "           6       1.00      1.00      1.00        55\n",
            "           7       0.98      1.00      0.99        54\n",
            "           8       1.00      0.98      0.99        61\n",
            "           9       1.00      0.98      0.99        58\n",
            "\n",
            "    accuracy                           0.99       540\n",
            "   macro avg       0.99      0.99      0.99       540\n",
            "weighted avg       0.99      0.99      0.99       540\n",
            "\n"
          ]
        }
      ],
      "source": [
        "# K-Nearest Neighbor\n",
        "from sklearn.datasets import load_digits\n",
        "from sklearn.neighbors import KNeighborsClassifier\n",
        "from sklearn.model_selection import train_test_split\n",
        "from sklearn.metrics import classification_report\n",
        "\n",
        "# Load dataset\n",
        "digits=load_digits()\n",
        "x,y=digits.data, digits.target\n",
        "\n",
        "# Split\n",
        "x_train, x_test, y_train, y_test = train_test_split(x, y, test_size=0.3)\n",
        "\n",
        "# Model training\n",
        "KNN=KNeighborsClassifier()\n",
        "KNN.fit(x_train, y_train)\n",
        "\n",
        "# Prediction\n",
        "yp = KNN.predict(x_test)\n",
        "print(classification_report(y_test, yp))"
      ]
    },
    {
      "cell_type": "code",
      "source": [],
      "metadata": {
        "id": "jcL8CRem_g6p"
      },
      "execution_count": null,
      "outputs": []
    }
  ]
}