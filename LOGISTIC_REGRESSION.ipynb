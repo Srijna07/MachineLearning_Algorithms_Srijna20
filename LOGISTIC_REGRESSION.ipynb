{
  "nbformat": 4,
  "nbformat_minor": 0,
  "metadata": {
    "colab": {
      "provenance": [],
      "authorship_tag": "ABX9TyMr71OSoG3hf/7IWvKjWBhn",
      "include_colab_link": true
    },
    "kernelspec": {
      "name": "python3",
      "display_name": "Python 3"
    },
    "language_info": {
      "name": "python"
    }
  },
  "cells": [
    {
      "cell_type": "markdown",
      "metadata": {
        "id": "view-in-github",
        "colab_type": "text"
      },
      "source": [
        "<a href=\"https://colab.research.google.com/github/Srijna07/MachineLearning_Algorithms_Srijna20/blob/main/LOGISTIC_REGRESSION.ipynb\" target=\"_parent\"><img src=\"https://colab.research.google.com/assets/colab-badge.svg\" alt=\"Open In Colab\"/></a>"
      ]
    },
    {
      "cell_type": "code",
      "source": [
        "# 1_logistic_regression\n",
        "\n",
        "from sklearn.datasets import load_iris\n",
        "from sklearn.linear_model import LogisticRegression\n",
        "from sklearn.model_selection import train_test_split\n",
        "from sklearn.metrics import accuracy_score\n",
        "\n",
        "# Load data\n",
        "iris = load_iris()\n",
        "x,y= iris.data, iris.target\n",
        "\n",
        "#splitting data\n",
        "x_train, x_test, y_train, y_test=train_test_split(x,y, test_size=0.3)\n",
        "\n",
        "#Training model\n",
        "model= LogisticRegression(max_iter=200)\n",
        "model.fit(x_train, y_train)\n",
        "\n",
        "#prediction\n",
        "predictions=model.predict(x_test)\n",
        "print(\"Logistic Regression Accuracy:\", accuracy_score(y_test, predictions))"
      ],
      "metadata": {
        "colab": {
          "base_uri": "https://localhost:8080/"
        },
        "id": "_UkHG7uhyymf",
        "outputId": "3aa0657d-4dd8-4411-fc18-06ce52f41df0"
      },
      "execution_count": null,
      "outputs": [
        {
          "output_type": "stream",
          "name": "stdout",
          "text": [
            "Logistic Regression Accuracy: 0.9333333333333333\n"
          ]
        }
      ]
    },
    {
      "cell_type": "code",
      "source": [],
      "metadata": {
        "id": "RExRmskQy0dh"
      },
      "execution_count": null,
      "outputs": []
    }
  ]
}