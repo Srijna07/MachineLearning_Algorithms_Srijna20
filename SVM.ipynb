{
  "nbformat": 4,
  "nbformat_minor": 0,
  "metadata": {
    "colab": {
      "provenance": [],
      "authorship_tag": "ABX9TyN9kXlep1DeAqhItcAn1dwB",
      "include_colab_link": true
    },
    "kernelspec": {
      "name": "python3",
      "display_name": "Python 3"
    },
    "language_info": {
      "name": "python"
    }
  },
  "cells": [
    {
      "cell_type": "markdown",
      "metadata": {
        "id": "view-in-github",
        "colab_type": "text"
      },
      "source": [
        "<a href=\"https://colab.research.google.com/github/Srijna07/MachineLearning_Algorithms_Srijna20/blob/main/SVM.ipynb\" target=\"_parent\"><img src=\"https://colab.research.google.com/assets/colab-badge.svg\" alt=\"Open In Colab\"/></a>"
      ]
    },
    {
      "cell_type": "code",
      "execution_count": null,
      "metadata": {
        "colab": {
          "base_uri": "https://localhost:8080/"
        },
        "id": "U51de6aG_yeY",
        "outputId": "00ed1392-8390-4574-9443-aa03f6b7d88e"
      },
      "outputs": [
        {
          "output_type": "stream",
          "name": "stdout",
          "text": [
            "0.9122807017543859\n"
          ]
        }
      ],
      "source": [
        "# support vector machine\n",
        "from sklearn.datasets import load_breast_cancer\n",
        "from sklearn.svm import SVC\n",
        "from sklearn.model_selection import train_test_split\n",
        "from sklearn.metrics import accuracy_score\n",
        "\n",
        "# Load dataset\n",
        "data=load_breast_cancer()\n",
        "x,y=data.data,data.target\n",
        "\n",
        "# Split\n",
        "x_train,x_test,y_train,y_test=train_test_split(x,y,test_size=0.3)\n",
        "\n",
        "# Model training\n",
        "svm=SVC()\n",
        "svm.fit(x_train, y_train)\n",
        "\n",
        "# Prediction\n",
        "yp=svm.predict(x_test)\n",
        "print(accuracy_score(y_test,yp))"
      ]
    },
    {
      "cell_type": "code",
      "source": [],
      "metadata": {
        "id": "J3W0FL6PBF-q"
      },
      "execution_count": null,
      "outputs": []
    }
  ]
}