{
  "nbformat": 4,
  "nbformat_minor": 0,
  "metadata": {
    "colab": {
      "provenance": [],
      "authorship_tag": "ABX9TyODr8wHHOK1tIpCiBXPDvR7",
      "include_colab_link": true
    },
    "kernelspec": {
      "name": "python3",
      "display_name": "Python 3"
    },
    "language_info": {
      "name": "python"
    }
  },
  "cells": [
    {
      "cell_type": "markdown",
      "metadata": {
        "id": "view-in-github",
        "colab_type": "text"
      },
      "source": [
        "<a href=\"https://colab.research.google.com/github/Srijna07/MachineLearning_Algorithms_Srijna20/blob/main/DECISION_TREE.ipynb\" target=\"_parent\"><img src=\"https://colab.research.google.com/assets/colab-badge.svg\" alt=\"Open In Colab\"/></a>"
      ]
    },
    {
      "cell_type": "code",
      "execution_count": null,
      "metadata": {
        "colab": {
          "base_uri": "https://localhost:8080/"
        },
        "id": "EjRkR6_dzAnG",
        "outputId": "ad5096e4-17ce-452f-e72d-a64b015518c6"
      },
      "outputs": [
        {
          "output_type": "stream",
          "name": "stdout",
          "text": [
            "Accuracy: 0.7991266375545851\n"
          ]
        }
      ],
      "source": [
        "# Decision Tree\n",
        "import pandas as pd\n",
        "from sklearn.tree import DecisionTreeClassifier\n",
        "from sklearn.model_selection import train_test_split\n",
        "from sklearn.metrics import accuracy_score\n",
        "from sklearn.preprocessing import LabelEncoder\n",
        "\n",
        "# Load dataset\n",
        "src = 'https://raw.githubusercontent.com/datasciencedojo/datasets/master/titanic.csv'\n",
        "df = pd.read_csv(src)\n",
        "\n",
        "# Pre-processing\n",
        "df = df[['Pclass', 'Sex', 'Age', 'Survived']].dropna()\n",
        "lblenc = LabelEncoder()\n",
        "df['Sex'] = lblenc.fit_transform(df['Sex'])\n",
        "\n",
        "X = df[['Pclass', 'Sex', 'Age']]\n",
        "y = df['Survived']\n",
        "\n",
        "# Split\n",
        "x_train, x_test, y_train, y_test = train_test_split(X, y, test_size=0.32)\n",
        "\n",
        "# Model training\n",
        "c = DecisionTreeClassifier()\n",
        "c.fit(x_train, y_train)\n",
        "\n",
        "# Prediction\n",
        "p = c.predict(x_test)\n",
        "print(\"Accuracy:\", accuracy_score(y_test, p))\n"
      ]
    },
    {
      "cell_type": "code",
      "source": [],
      "metadata": {
        "id": "5yM1G7879gHj"
      },
      "execution_count": null,
      "outputs": []
    }
  ]
}